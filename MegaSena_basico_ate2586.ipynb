{
 "cells": [
  {
   "cell_type": "markdown",
   "id": "d3aadd43",
   "metadata": {},
   "source": [
    "### Análise inicial do jogo da mega-sena"
   ]
  },
  {
   "cell_type": "code",
   "execution_count": 1,
   "id": "0d182168",
   "metadata": {},
   "outputs": [],
   "source": [
    "import pandas as pd\n",
    "import numpy as np\n",
    "import matplotlib.pyplot as plt\n"
   ]
  },
  {
   "cell_type": "code",
   "execution_count": 18,
   "id": "7d8293f8",
   "metadata": {},
   "outputs": [],
   "source": [
    "from matplotlib.backends.backend_pdf import PdfPages\n",
    "import pdfkit"
   ]
  },
  {
   "cell_type": "code",
   "execution_count": 2,
   "id": "dd665ae7",
   "metadata": {},
   "outputs": [],
   "source": [
    "import warnings\n",
    "warnings.filterwarnings('ignore')"
   ]
  },
  {
   "cell_type": "code",
   "execution_count": 5,
   "id": "3e45d608",
   "metadata": {},
   "outputs": [
    {
     "data": {
      "text/html": [
       "<div>\n",
       "<style scoped>\n",
       "    .dataframe tbody tr th:only-of-type {\n",
       "        vertical-align: middle;\n",
       "    }\n",
       "\n",
       "    .dataframe tbody tr th {\n",
       "        vertical-align: top;\n",
       "    }\n",
       "\n",
       "    .dataframe thead th {\n",
       "        text-align: right;\n",
       "    }\n",
       "</style>\n",
       "<table border=\"1\" class=\"dataframe\">\n",
       "  <thead>\n",
       "    <tr style=\"text-align: right;\">\n",
       "      <th></th>\n",
       "      <th>Concurso</th>\n",
       "      <th>bola 1</th>\n",
       "      <th>bola 2</th>\n",
       "      <th>bola 3</th>\n",
       "      <th>bola 4</th>\n",
       "      <th>bola 5</th>\n",
       "      <th>bola 6</th>\n",
       "    </tr>\n",
       "  </thead>\n",
       "  <tbody>\n",
       "    <tr>\n",
       "      <th>0</th>\n",
       "      <td>2585</td>\n",
       "      <td>14</td>\n",
       "      <td>26</td>\n",
       "      <td>34</td>\n",
       "      <td>36</td>\n",
       "      <td>43</td>\n",
       "      <td>59</td>\n",
       "    </tr>\n",
       "    <tr>\n",
       "      <th>1</th>\n",
       "      <td>2584</td>\n",
       "      <td>1</td>\n",
       "      <td>5</td>\n",
       "      <td>12</td>\n",
       "      <td>36</td>\n",
       "      <td>53</td>\n",
       "      <td>55</td>\n",
       "    </tr>\n",
       "    <tr>\n",
       "      <th>2</th>\n",
       "      <td>2583</td>\n",
       "      <td>2</td>\n",
       "      <td>20</td>\n",
       "      <td>27</td>\n",
       "      <td>30</td>\n",
       "      <td>52</td>\n",
       "      <td>59</td>\n",
       "    </tr>\n",
       "    <tr>\n",
       "      <th>3</th>\n",
       "      <td>2582</td>\n",
       "      <td>10</td>\n",
       "      <td>14</td>\n",
       "      <td>17</td>\n",
       "      <td>19</td>\n",
       "      <td>21</td>\n",
       "      <td>34</td>\n",
       "    </tr>\n",
       "    <tr>\n",
       "      <th>4</th>\n",
       "      <td>2581</td>\n",
       "      <td>14</td>\n",
       "      <td>17</td>\n",
       "      <td>32</td>\n",
       "      <td>36</td>\n",
       "      <td>39</td>\n",
       "      <td>60</td>\n",
       "    </tr>\n",
       "  </tbody>\n",
       "</table>\n",
       "</div>"
      ],
      "text/plain": [
       "   Concurso  bola 1  bola 2  bola 3  bola 4  bola 5  bola 6\n",
       "0      2585      14      26      34      36      43      59\n",
       "1      2584       1       5      12      36      53      55\n",
       "2      2583       2      20      27      30      52      59\n",
       "3      2582      10      14      17      19      21      34\n",
       "4      2581      14      17      32      36      39      60"
      ]
     },
     "execution_count": 5,
     "metadata": {},
     "output_type": "execute_result"
    }
   ],
   "source": [
    "apostas = pd.read_excel(\"Mega_sena_ate_2585.xlsx\")\n",
    "apostas.head(5)"
   ]
  },
  {
   "cell_type": "markdown",
   "id": "cf130b48",
   "metadata": {},
   "source": [
    "#### O Selenium WebDriver usa o próprio driver do navegador para a automação.Sera utilizado para pegar os números do último sorteio e atualizar os dados. Essa prática é para treino, já que o Xpath não parace ser constante, não sendo, portanto, uma abordagem prática\n"
   ]
  },
  {
   "cell_type": "code",
   "execution_count": 6,
   "id": "424667d1",
   "metadata": {},
   "outputs": [],
   "source": [
    "from selenium.webdriver.chrome.service import Service\n",
    "from selenium import webdriver\n",
    "from selenium.webdriver.common.keys import Keys\n",
    "from selenium.webdriver.common.by import By"
   ]
  },
  {
   "cell_type": "code",
   "execution_count": 7,
   "id": "d8456ac5",
   "metadata": {},
   "outputs": [],
   "source": [
    "service = Service(executable_path=\"/usr/local/bin/chromedriver\") #criação de objeto"
   ]
  },
  {
   "cell_type": "markdown",
   "id": "82373099",
   "metadata": {},
   "source": [
    "##### Uso do Selenium para automatizar a busca do último resultado da MEGA SENA"
   ]
  },
  {
   "cell_type": "code",
   "execution_count": 16,
   "id": "7dc2097e",
   "metadata": {},
   "outputs": [
    {
     "name": "stdout",
     "output_type": "stream",
     "text": [
      "10\n",
      "18\n",
      "41\n",
      "49\n",
      "53\n",
      "59\n"
     ]
    }
   ],
   "source": [
    "with webdriver.Chrome(service=service) as driver:\n",
    "    #navigate to the url\n",
    "    driver.get('https://www.google.com/')\n",
    "    #find element by xpath\n",
    "    pesquisa = driver.find_element(By.XPATH,'//*[@id=\"APjFqb\"]')\n",
    "    pesquisa.send_keys(\"mega sena\")\n",
    "    pesquisa.send_keys(Keys.ENTER)\n",
    "\n",
    "    \n",
    "    novo_bola1 = driver.find_element(By.XPATH,'//*[@id=\"tsuid_30\"]/span/div/div/div/div/div[2]/div/div[1]/div/div[1]/div/div/span[1]')\n",
    "    print(novo_bola1.text)  \n",
    "    novo_bola2 = driver.find_element(By.XPATH,'//*[@id=\"tsuid_30\"]/span/div/div/div/div/div[2]/div/div[1]/div/div[1]/div/div/span[2]')\n",
    "    print(novo_bola2.text)\n",
    "    novo_bola3 = driver.find_element(By.XPATH,'//*[@id=\"tsuid_30\"]/span/div/div/div/div/div[2]/div/div[1]/div/div[1]/div/div/span[3]')\n",
    "    print(novo_bola3.text)\n",
    "    novo_bola4 = driver.find_element(By.XPATH,'//*[@id=\"tsuid_30\"]/span/div/div/div/div/div[2]/div/div[1]/div/div[1]/div/div/span[4]')\n",
    "    print(novo_bola4.text)\n",
    "    novo_bola5 = driver.find_element(By.XPATH,'//*[@id=\"tsuid_30\"]/span/div/div/div/div/div[2]/div/div[1]/div/div[1]/div/div/span[5]')\n",
    "    print(novo_bola5.text)\n",
    "    novo_bola6 = driver.find_element(By.XPATH,'//*[@id=\"tsuid_30\"]/span/div/div/div/div/div[2]/div/div[1]/div/div[1]/div/div/span[6]')\n",
    "    print(novo_bola6.text)\n",
    "    \n",
    "    driver.quit()"
   ]
  },
  {
   "cell_type": "code",
   "execution_count": 26,
   "id": "daf60023",
   "metadata": {
    "scrolled": true
   },
   "outputs": [
    {
     "data": {
      "text/html": [
       "<div>\n",
       "<style scoped>\n",
       "    .dataframe tbody tr th:only-of-type {\n",
       "        vertical-align: middle;\n",
       "    }\n",
       "\n",
       "    .dataframe tbody tr th {\n",
       "        vertical-align: top;\n",
       "    }\n",
       "\n",
       "    .dataframe thead th {\n",
       "        text-align: right;\n",
       "    }\n",
       "</style>\n",
       "<table border=\"1\" class=\"dataframe\">\n",
       "  <thead>\n",
       "    <tr style=\"text-align: right;\">\n",
       "      <th></th>\n",
       "      <th>Concurso</th>\n",
       "      <th>bola 1</th>\n",
       "      <th>bola 2</th>\n",
       "      <th>bola 3</th>\n",
       "      <th>bola 4</th>\n",
       "      <th>bola 5</th>\n",
       "      <th>bola 6</th>\n",
       "    </tr>\n",
       "  </thead>\n",
       "  <tbody>\n",
       "    <tr>\n",
       "      <th>0</th>\n",
       "      <td>2585</td>\n",
       "      <td>14</td>\n",
       "      <td>26</td>\n",
       "      <td>34</td>\n",
       "      <td>36</td>\n",
       "      <td>43</td>\n",
       "      <td>59</td>\n",
       "    </tr>\n",
       "  </tbody>\n",
       "</table>\n",
       "</div>"
      ],
      "text/plain": [
       "   Concurso  bola 1  bola 2  bola 3  bola 4  bola 5  bola 6\n",
       "0      2585      14      26      34      36      43      59"
      ]
     },
     "execution_count": 26,
     "metadata": {},
     "output_type": "execute_result"
    }
   ],
   "source": [
    "apostas[0:1]"
   ]
  },
  {
   "cell_type": "code",
   "execution_count": 28,
   "id": "510a455a",
   "metadata": {},
   "outputs": [],
   "source": [
    "# Função para inserir nova linha no dataframe \n",
    "def inserir_linha(index_linha, df, valor_linha):\n",
    "    # verificando se o index passado é valido\n",
    "    if index_linha > df.index.max()+1:\n",
    "        print(\"Linha não existente\")\n",
    "    #Dividindo o dataframe \n",
    "    else:\n",
    "        df1 = df[0:index_linha] #parte de cima sendo criada\n",
    "        # Parte de baixo \n",
    "        df2 = df[index_linha:] \n",
    "\n",
    "        # Inserindo a linha na parte de cima I\n",
    "        df1.loc[index_linha]=valor_linha\n",
    "\n",
    "        # Juntando\n",
    "        df_result = pd.concat([df1, df2])\n",
    "        # Arrumando o index\n",
    "        df_result.index = [*range(df_result.shape[0])]\n",
    "        #The * \"unpacks\" an iterable, so that each element is passed as a separate argument, \n",
    "        #rather than the function receiving the iterable object as a single argument\n",
    "\n",
    "        # Retorna o novo dataframe\n",
    "        return df_result"
   ]
  },
  {
   "cell_type": "code",
   "execution_count": 17,
   "id": "b2232523",
   "metadata": {
    "scrolled": true
   },
   "outputs": [
    {
     "name": "stdout",
     "output_type": "stream",
     "text": [
      " O numero total de linhas da tabela é 2585\n",
      " Indice max = 2584\n"
     ]
    }
   ],
   "source": [
    "print(f\" O numero total de linhas da tabela é {(len(apostas))}\")\n",
    "print(f\" Indice max = {apostas.index.max()}\")"
   ]
  },
  {
   "cell_type": "code",
   "execution_count": 24,
   "id": "97f03bbb",
   "metadata": {
    "scrolled": true
   },
   "outputs": [
    {
     "data": {
      "text/plain": [
       "2585"
      ]
     },
     "execution_count": 24,
     "metadata": {},
     "output_type": "execute_result"
    }
   ],
   "source": [
    "max(apostas['Concurso'])"
   ]
  },
  {
   "cell_type": "code",
   "execution_count": 29,
   "id": "6958c986",
   "metadata": {},
   "outputs": [],
   "source": [
    "# linha que quero inserir\n",
    "index_linha = 0  # ou seja, a parte de cima vai ser so o \"cabecalho\"\n",
    "valor_linha = [(max(apostas['Concurso'])+1),10,18,41,49,53,59]  #numeros encontrados com o selenium\n",
    "\n",
    "# chamada da função para acrescimo da linha na posição 0\n",
    "apostas2= inserir_linha(0, apostas, valor_linha)\n"
   ]
  },
  {
   "cell_type": "code",
   "execution_count": 30,
   "id": "dfe501f1",
   "metadata": {},
   "outputs": [
    {
     "data": {
      "text/html": [
       "<div>\n",
       "<style scoped>\n",
       "    .dataframe tbody tr th:only-of-type {\n",
       "        vertical-align: middle;\n",
       "    }\n",
       "\n",
       "    .dataframe tbody tr th {\n",
       "        vertical-align: top;\n",
       "    }\n",
       "\n",
       "    .dataframe thead th {\n",
       "        text-align: right;\n",
       "    }\n",
       "</style>\n",
       "<table border=\"1\" class=\"dataframe\">\n",
       "  <thead>\n",
       "    <tr style=\"text-align: right;\">\n",
       "      <th></th>\n",
       "      <th>Concurso</th>\n",
       "      <th>bola 1</th>\n",
       "      <th>bola 2</th>\n",
       "      <th>bola 3</th>\n",
       "      <th>bola 4</th>\n",
       "      <th>bola 5</th>\n",
       "      <th>bola 6</th>\n",
       "    </tr>\n",
       "  </thead>\n",
       "  <tbody>\n",
       "    <tr>\n",
       "      <th>0</th>\n",
       "      <td>2586</td>\n",
       "      <td>10</td>\n",
       "      <td>18</td>\n",
       "      <td>41</td>\n",
       "      <td>49</td>\n",
       "      <td>53</td>\n",
       "      <td>59</td>\n",
       "    </tr>\n",
       "    <tr>\n",
       "      <th>1</th>\n",
       "      <td>2585</td>\n",
       "      <td>14</td>\n",
       "      <td>26</td>\n",
       "      <td>34</td>\n",
       "      <td>36</td>\n",
       "      <td>43</td>\n",
       "      <td>59</td>\n",
       "    </tr>\n",
       "    <tr>\n",
       "      <th>2</th>\n",
       "      <td>2584</td>\n",
       "      <td>1</td>\n",
       "      <td>5</td>\n",
       "      <td>12</td>\n",
       "      <td>36</td>\n",
       "      <td>53</td>\n",
       "      <td>55</td>\n",
       "    </tr>\n",
       "  </tbody>\n",
       "</table>\n",
       "</div>"
      ],
      "text/plain": [
       "   Concurso  bola 1  bola 2  bola 3  bola 4  bola 5  bola 6\n",
       "0      2586      10      18      41      49      53      59\n",
       "1      2585      14      26      34      36      43      59\n",
       "2      2584       1       5      12      36      53      55"
      ]
     },
     "execution_count": 30,
     "metadata": {},
     "output_type": "execute_result"
    }
   ],
   "source": [
    "apostas2.head(3)"
   ]
  },
  {
   "cell_type": "code",
   "execution_count": 32,
   "id": "f45a9cd5",
   "metadata": {},
   "outputs": [],
   "source": [
    "apostas2.to_excel(\"Mega_sena_ate_2586.xlsx\", index=False)"
   ]
  },
  {
   "cell_type": "code",
   "execution_count": 33,
   "id": "dfd3f798",
   "metadata": {},
   "outputs": [],
   "source": [
    "#Pegando os 10 valores mais sorteados de cada bola\n",
    "\n",
    "dfb1 = apostas2['bola 1'].value_counts().head(10).rename_axis('Número sorteado').reset_index()\n",
    "dfb2 = apostas2['bola 2'].value_counts().head(10).rename_axis('Número sorteado').reset_index()\n",
    "dfb3 = apostas2['bola 3'].value_counts().head(10).rename_axis('Número sorteado').reset_index()\n",
    "dfb4 = apostas2['bola 4'].value_counts().head(10).rename_axis('Número sorteado').reset_index()\n",
    "dfb5 = apostas2['bola 5'].value_counts().head(10).rename_axis('Número sorteado').reset_index()\n",
    "dfb6 = apostas2['bola 6'].value_counts().head(10).rename_axis('Número sorteado').reset_index()\n",
    "data_frames = [dfb1, dfb2, dfb3,dfb4,dfb5,dfb6]"
   ]
  },
  {
   "cell_type": "code",
   "execution_count": 39,
   "id": "154fd2d9",
   "metadata": {
    "scrolled": false
   },
   "outputs": [
    {
     "data": {
      "text/html": [
       "<div>\n",
       "<style scoped>\n",
       "    .dataframe tbody tr th:only-of-type {\n",
       "        vertical-align: middle;\n",
       "    }\n",
       "\n",
       "    .dataframe tbody tr th {\n",
       "        vertical-align: top;\n",
       "    }\n",
       "\n",
       "    .dataframe thead th {\n",
       "        text-align: right;\n",
       "    }\n",
       "</style>\n",
       "<table border=\"1\" class=\"dataframe\">\n",
       "  <thead>\n",
       "    <tr style=\"text-align: right;\">\n",
       "      <th></th>\n",
       "      <th>Número sorteado</th>\n",
       "      <th>bola 1</th>\n",
       "    </tr>\n",
       "  </thead>\n",
       "  <tbody>\n",
       "    <tr>\n",
       "      <th>0</th>\n",
       "      <td>28</td>\n",
       "      <td>60</td>\n",
       "    </tr>\n",
       "    <tr>\n",
       "      <th>1</th>\n",
       "      <td>4</td>\n",
       "      <td>58</td>\n",
       "    </tr>\n",
       "    <tr>\n",
       "      <th>2</th>\n",
       "      <td>49</td>\n",
       "      <td>54</td>\n",
       "    </tr>\n",
       "    <tr>\n",
       "      <th>3</th>\n",
       "      <td>32</td>\n",
       "      <td>53</td>\n",
       "    </tr>\n",
       "    <tr>\n",
       "      <th>4</th>\n",
       "      <td>47</td>\n",
       "      <td>52</td>\n",
       "    </tr>\n",
       "    <tr>\n",
       "      <th>5</th>\n",
       "      <td>35</td>\n",
       "      <td>52</td>\n",
       "    </tr>\n",
       "    <tr>\n",
       "      <th>6</th>\n",
       "      <td>2</td>\n",
       "      <td>51</td>\n",
       "    </tr>\n",
       "    <tr>\n",
       "      <th>7</th>\n",
       "      <td>30</td>\n",
       "      <td>51</td>\n",
       "    </tr>\n",
       "    <tr>\n",
       "      <th>8</th>\n",
       "      <td>25</td>\n",
       "      <td>50</td>\n",
       "    </tr>\n",
       "    <tr>\n",
       "      <th>9</th>\n",
       "      <td>20</td>\n",
       "      <td>50</td>\n",
       "    </tr>\n",
       "  </tbody>\n",
       "</table>\n",
       "</div>"
      ],
      "text/plain": [
       "   Número sorteado  bola 1\n",
       "0               28      60\n",
       "1                4      58\n",
       "2               49      54\n",
       "3               32      53\n",
       "4               47      52\n",
       "5               35      52\n",
       "6                2      51\n",
       "7               30      51\n",
       "8               25      50\n",
       "9               20      50"
      ]
     },
     "execution_count": 39,
     "metadata": {},
     "output_type": "execute_result"
    }
   ],
   "source": [
    "#verificando\n",
    "dfb1"
   ]
  },
  {
   "cell_type": "code",
   "execution_count": 34,
   "id": "ef719e62",
   "metadata": {},
   "outputs": [
    {
     "data": {
      "text/plain": [
       "list"
      ]
     },
     "execution_count": 34,
     "metadata": {},
     "output_type": "execute_result"
    }
   ],
   "source": [
    "type(data_frames)"
   ]
  },
  {
   "cell_type": "code",
   "execution_count": 35,
   "id": "64b419a6",
   "metadata": {},
   "outputs": [],
   "source": [
    "import functools\n"
   ]
  },
  {
   "cell_type": "markdown",
   "id": "a3ea58e7",
   "metadata": {},
   "source": [
    "###### A função reduce() \n",
    "Em python pega uma função predefinida e a aplica a todos os elementos em um iterável  (por exemplo, lista, tupla, dicionário, etc.) e calcula um resultado de valor único. Essa saída de valor  único resulta da aplicação da função de redução no iterável passado como um argumento;  apenas um único inteiro, string ou booleano é retornado. (É como se fosse um *** for loop ***)\n",
    "\n",
    "###### Função lambda \n",
    "São pequenas funções anônimas definidas usando a palavra-chave lambda. Indicado para quando se vai usar a função vez no código\n",
    "\n",
    "###### Função Merge\n",
    "“Mesclar” dois conjuntos de dados é o processo de reunir dois conjuntos de dados em um e alinhar as linhas de cada um com base em atributos ou colunas comuns.\n",
    " - Inner Merge  – The default Pandas behaviour, only keep rows where the merge “on” value exists in both the left and right dataframes.\n",
    " - Left Merge  – Keep every row in the left dataframe. Where there are missing values of the “on” variable in the right dataframe, add empty / NaN values in the result.\n",
    " - Right Merge\n",
    " - Outer Merge  – A full outer join returns all the rows from the left dataframe, all the rows from the right dataframe, and matches up rows where possible, with NaNs elsewhere."
   ]
  },
  {
   "cell_type": "markdown",
   "id": "14656f4d",
   "metadata": {},
   "source": [
    "### Criar novo dataframe com os valores mais recorrentes"
   ]
  },
  {
   "cell_type": "markdown",
   "id": "ad032bb2",
   "metadata": {},
   "source": [
    "<img src = \"reduce.png\">"
   ]
  },
  {
   "cell_type": "code",
   "execution_count": 40,
   "id": "a15c0950",
   "metadata": {
    "scrolled": true
   },
   "outputs": [
    {
     "data": {
      "text/html": [
       "<div>\n",
       "<style scoped>\n",
       "    .dataframe tbody tr th:only-of-type {\n",
       "        vertical-align: middle;\n",
       "    }\n",
       "\n",
       "    .dataframe tbody tr th {\n",
       "        vertical-align: top;\n",
       "    }\n",
       "\n",
       "    .dataframe thead th {\n",
       "        text-align: right;\n",
       "    }\n",
       "</style>\n",
       "<table border=\"1\" class=\"dataframe\">\n",
       "  <thead>\n",
       "    <tr style=\"text-align: right;\">\n",
       "      <th></th>\n",
       "      <th>Número sorteado</th>\n",
       "      <th>bola 1</th>\n",
       "      <th>bola 2</th>\n",
       "      <th>bola 3</th>\n",
       "      <th>bola 4</th>\n",
       "      <th>bola 5</th>\n",
       "      <th>bola 6</th>\n",
       "    </tr>\n",
       "  </thead>\n",
       "  <tbody>\n",
       "    <tr>\n",
       "      <th>0</th>\n",
       "      <td>28</td>\n",
       "      <td>60.0</td>\n",
       "      <td>NaN</td>\n",
       "      <td>NaN</td>\n",
       "      <td>NaN</td>\n",
       "      <td>NaN</td>\n",
       "      <td>NaN</td>\n",
       "    </tr>\n",
       "    <tr>\n",
       "      <th>1</th>\n",
       "      <td>4</td>\n",
       "      <td>58.0</td>\n",
       "      <td>NaN</td>\n",
       "      <td>50.0</td>\n",
       "      <td>NaN</td>\n",
       "      <td>NaN</td>\n",
       "      <td>NaN</td>\n",
       "    </tr>\n",
       "    <tr>\n",
       "      <th>2</th>\n",
       "      <td>49</td>\n",
       "      <td>54.0</td>\n",
       "      <td>NaN</td>\n",
       "      <td>NaN</td>\n",
       "      <td>NaN</td>\n",
       "      <td>NaN</td>\n",
       "      <td>NaN</td>\n",
       "    </tr>\n",
       "  </tbody>\n",
       "</table>\n",
       "</div>"
      ],
      "text/plain": [
       "   Número sorteado  bola 1  bola 2  bola 3  bola 4  bola 5  bola 6\n",
       "0               28    60.0     NaN     NaN     NaN     NaN     NaN\n",
       "1                4    58.0     NaN    50.0     NaN     NaN     NaN\n",
       "2               49    54.0     NaN     NaN     NaN     NaN     NaN"
      ]
     },
     "execution_count": 40,
     "metadata": {},
     "output_type": "execute_result"
    }
   ],
   "source": [
    "#juntando em um unico dataframe os dataframes de cada bola feitos acima por \"numero sorteado\"\n",
    "df_merged = functools.reduce(lambda  left,right: pd.merge(left,right,on=['Número sorteado'],\n",
    "                                            how='outer'), data_frames)\n",
    "df_merged.round(decimals=0)\n",
    "df_merged.head(3)"
   ]
  },
  {
   "cell_type": "code",
   "execution_count": 41,
   "id": "026dc035",
   "metadata": {
    "scrolled": true
   },
   "outputs": [
    {
     "data": {
      "text/plain": [
       "41"
      ]
     },
     "execution_count": 41,
     "metadata": {},
     "output_type": "execute_result"
    }
   ],
   "source": [
    "len(df_merged.index)\n"
   ]
  },
  {
   "cell_type": "code",
   "execution_count": 43,
   "id": "84708bc8",
   "metadata": {},
   "outputs": [
    {
     "data": {
      "text/plain": [
       "0     5\n",
       "1     4\n",
       "2     5\n",
       "3     4\n",
       "4     5\n",
       "5     4\n",
       "6     5\n",
       "7     4\n",
       "8     5\n",
       "9     5\n",
       "10    4\n",
       "11    2\n",
       "12    5\n",
       "13    3\n",
       "14    5\n",
       "15    5\n",
       "16    5\n",
       "17    5\n",
       "18    5\n",
       "19    5\n",
       "20    5\n",
       "21    4\n",
       "22    4\n",
       "23    5\n",
       "24    4\n",
       "25    4\n",
       "26    4\n",
       "27    4\n",
       "28    5\n",
       "29    5\n",
       "30    5\n",
       "31    5\n",
       "32    4\n",
       "33    5\n",
       "34    4\n",
       "35    4\n",
       "36    5\n",
       "37    5\n",
       "38    5\n",
       "39    5\n",
       "40    5\n",
       "dtype: int64"
      ]
     },
     "execution_count": 43,
     "metadata": {},
     "output_type": "execute_result"
    }
   ],
   "source": [
    "df_merged.isnull().sum(axis=1) #Analisando quandos NAN tem em cada linha "
   ]
  },
  {
   "cell_type": "code",
   "execution_count": 44,
   "id": "9103280d",
   "metadata": {},
   "outputs": [
    {
     "data": {
      "text/html": [
       "<div>\n",
       "<style scoped>\n",
       "    .dataframe tbody tr th:only-of-type {\n",
       "        vertical-align: middle;\n",
       "    }\n",
       "\n",
       "    .dataframe tbody tr th {\n",
       "        vertical-align: top;\n",
       "    }\n",
       "\n",
       "    .dataframe thead th {\n",
       "        text-align: right;\n",
       "    }\n",
       "</style>\n",
       "<table border=\"1\" class=\"dataframe\">\n",
       "  <thead>\n",
       "    <tr style=\"text-align: right;\">\n",
       "      <th></th>\n",
       "      <th>Vezes não sorteado(linhas)</th>\n",
       "    </tr>\n",
       "    <tr>\n",
       "      <th>Número sorteado</th>\n",
       "      <th></th>\n",
       "    </tr>\n",
       "  </thead>\n",
       "  <tbody>\n",
       "    <tr>\n",
       "      <th>28</th>\n",
       "      <td>5</td>\n",
       "    </tr>\n",
       "    <tr>\n",
       "      <th>4</th>\n",
       "      <td>4</td>\n",
       "    </tr>\n",
       "    <tr>\n",
       "      <th>49</th>\n",
       "      <td>5</td>\n",
       "    </tr>\n",
       "  </tbody>\n",
       "</table>\n",
       "</div>"
      ],
      "text/plain": [
       "                 Vezes não sorteado(linhas)\n",
       "Número sorteado                            \n",
       "28                                        5\n",
       "4                                         4\n",
       "49                                        5"
      ]
     },
     "execution_count": 44,
     "metadata": {},
     "output_type": "execute_result"
    }
   ],
   "source": [
    "df_merged.set_index('Número sorteado', inplace = True)\n",
    "nullpor_linha = df_merged.isnull().sum(axis=1) ## quantidade de NaN por linha\n",
    "faltantes= nullpor_linha.to_frame(name=\"Vezes não sorteado(linhas)\") #converte serie para dataframe e da nome a coluna\n",
    "faltantes.head(3)"
   ]
  },
  {
   "cell_type": "code",
   "execution_count": 45,
   "id": "5309e276",
   "metadata": {},
   "outputs": [],
   "source": [
    "data_frames2 = [df_merged,faltantes] "
   ]
  },
  {
   "cell_type": "code",
   "execution_count": 46,
   "id": "fc49e6c0",
   "metadata": {},
   "outputs": [
    {
     "data": {
      "text/plain": [
       "list"
      ]
     },
     "execution_count": 46,
     "metadata": {},
     "output_type": "execute_result"
    }
   ],
   "source": [
    "type(data_frames2)"
   ]
  },
  {
   "cell_type": "code",
   "execution_count": 49,
   "id": "374dc0c6",
   "metadata": {
    "scrolled": true
   },
   "outputs": [
    {
     "data": {
      "text/html": [
       "<div>\n",
       "<style scoped>\n",
       "    .dataframe tbody tr th:only-of-type {\n",
       "        vertical-align: middle;\n",
       "    }\n",
       "\n",
       "    .dataframe tbody tr th {\n",
       "        vertical-align: top;\n",
       "    }\n",
       "\n",
       "    .dataframe thead th {\n",
       "        text-align: right;\n",
       "    }\n",
       "</style>\n",
       "<table border=\"1\" class=\"dataframe\">\n",
       "  <thead>\n",
       "    <tr style=\"text-align: right;\">\n",
       "      <th></th>\n",
       "      <th>bola 1</th>\n",
       "      <th>bola 2</th>\n",
       "      <th>bola 3</th>\n",
       "      <th>bola 4</th>\n",
       "      <th>bola 5</th>\n",
       "      <th>bola 6</th>\n",
       "      <th>Vezes não sorteado(linhas)</th>\n",
       "    </tr>\n",
       "    <tr>\n",
       "      <th>Número sorteado</th>\n",
       "      <th></th>\n",
       "      <th></th>\n",
       "      <th></th>\n",
       "      <th></th>\n",
       "      <th></th>\n",
       "      <th></th>\n",
       "      <th></th>\n",
       "    </tr>\n",
       "  </thead>\n",
       "  <tbody>\n",
       "    <tr>\n",
       "      <th>10</th>\n",
       "      <td>NaN</td>\n",
       "      <td>60.0</td>\n",
       "      <td>NaN</td>\n",
       "      <td>50.0</td>\n",
       "      <td>53.0</td>\n",
       "      <td>50.0</td>\n",
       "      <td>2</td>\n",
       "    </tr>\n",
       "    <tr>\n",
       "      <th>53</th>\n",
       "      <td>NaN</td>\n",
       "      <td>55.0</td>\n",
       "      <td>NaN</td>\n",
       "      <td>51.0</td>\n",
       "      <td>NaN</td>\n",
       "      <td>55.0</td>\n",
       "      <td>3</td>\n",
       "    </tr>\n",
       "    <tr>\n",
       "      <th>38</th>\n",
       "      <td>NaN</td>\n",
       "      <td>NaN</td>\n",
       "      <td>51.0</td>\n",
       "      <td>NaN</td>\n",
       "      <td>54.0</td>\n",
       "      <td>NaN</td>\n",
       "      <td>4</td>\n",
       "    </tr>\n",
       "    <tr>\n",
       "      <th>44</th>\n",
       "      <td>NaN</td>\n",
       "      <td>NaN</td>\n",
       "      <td>NaN</td>\n",
       "      <td>50.0</td>\n",
       "      <td>53.0</td>\n",
       "      <td>NaN</td>\n",
       "      <td>4</td>\n",
       "    </tr>\n",
       "  </tbody>\n",
       "</table>\n",
       "</div>"
      ],
      "text/plain": [
       "                 bola 1  bola 2  bola 3  bola 4  bola 5  bola 6  \\\n",
       "Número sorteado                                                   \n",
       "10                  NaN    60.0     NaN    50.0    53.0    50.0   \n",
       "53                  NaN    55.0     NaN    51.0     NaN    55.0   \n",
       "38                  NaN     NaN    51.0     NaN    54.0     NaN   \n",
       "44                  NaN     NaN     NaN    50.0    53.0     NaN   \n",
       "\n",
       "                 Vezes não sorteado(linhas)  \n",
       "Número sorteado                              \n",
       "10                                        2  \n",
       "53                                        3  \n",
       "38                                        4  \n",
       "44                                        4  "
      ]
     },
     "execution_count": 49,
     "metadata": {},
     "output_type": "execute_result"
    }
   ],
   "source": [
    "#juntando o os dataframes merged e faltantes\n",
    "juntando_faltantes = functools.reduce(lambda  left,right: pd.merge(left,right,on=['Número sorteado'],\n",
    "                                            how='outer'), data_frames2)\n",
    "freq_freq = juntando_faltantes.sort_values('Vezes não sorteado(linhas)') # organizado por menos vezes não sorteadas\n",
    "freq_freq.head(4)"
   ]
  },
  {
   "cell_type": "code",
   "execution_count": 50,
   "id": "b1da9884",
   "metadata": {},
   "outputs": [],
   "source": [
    "#Substituindo os NaN\n",
    "organizando_freq= freq_freq.fillna('Não sorteado').round(0)"
   ]
  },
  {
   "cell_type": "code",
   "execution_count": 130,
   "id": "6728c5e3",
   "metadata": {},
   "outputs": [],
   "source": [
    "def style_negative(v, props='color:white; font-weight:150;background-color: ffbfb1'):\n",
    "    return props if v == \"Não sorteado\" else None\n",
    "\n",
    "frequencia_megasena=organizando_freq.style.set_properties( **{'width': '120px'}).set_table_attributes('border=1 cellspacing=0 class=\"pure-table\"').set_properties(**{'color': 'black',\n",
    "                           'border-color': 'grey','text-align':'center','font-weight':'bold','background-color': '#adff92'}).applymap(style_negative).set_precision(0).set_caption(\"MEGA SENA- Valores mais sorteados até o sorteio de numero 2586\") \n",
    "html_df = frequencia_megasena.render()\n",
    "with open(\"frequencia_megasena_2586.html\",\"w\") as fp:\n",
    "    fp.write(html_df)"
   ]
  },
  {
   "cell_type": "code",
   "execution_count": 129,
   "id": "18f67988",
   "metadata": {},
   "outputs": [
    {
     "data": {
      "text/html": [
       "\n",
       "        <iframe\n",
       "            width=\"600\"\n",
       "            height=\"300\"\n",
       "            src=\"frequencia_megasena.html\"\n",
       "            frameborder=\"0\"\n",
       "            allowfullscreen\n",
       "            \n",
       "        ></iframe>\n",
       "        "
      ],
      "text/plain": [
       "<IPython.lib.display.IFrame at 0x2107d3efa90>"
      ]
     },
     "execution_count": 129,
     "metadata": {},
     "output_type": "execute_result"
    }
   ],
   "source": [
    "from IPython.display import IFrame\n",
    "IFrame(\"frequencia_megasena.html\", width=600, height=300)"
   ]
  },
  {
   "cell_type": "code",
   "execution_count": 69,
   "id": "1cc3a725",
   "metadata": {},
   "outputs": [],
   "source": [
    "\n",
    "dfb11 = apostas2['bola 1'].value_counts().head(1).rename_axis('Número sorteado').reset_index()\n",
    "dfb21 = apostas2['bola 2'].value_counts().head(1).rename_axis('Número sorteado').reset_index()\n",
    "dfb31 = apostas2['bola 3'].value_counts().head(1).rename_axis('Número sorteado').reset_index()\n",
    "dfb41 = apostas2['bola 4'].value_counts().head(1).rename_axis('Número sorteado').reset_index()\n",
    "dfb51 = apostas2['bola 5'].value_counts().head(1).rename_axis('Número sorteado').reset_index()\n",
    "dfb61 = apostas2['bola 6'].value_counts().head(1).rename_axis('Número sorteado').reset_index()\n",
    "data_frames11 = [dfb11, dfb21, dfb31,dfb41,dfb51,dfb61]"
   ]
  },
  {
   "cell_type": "code",
   "execution_count": 135,
   "id": "4696bc42",
   "metadata": {
    "scrolled": true
   },
   "outputs": [
    {
     "data": {
      "text/html": [
       "<div>\n",
       "<style scoped>\n",
       "    .dataframe tbody tr th:only-of-type {\n",
       "        vertical-align: middle;\n",
       "    }\n",
       "\n",
       "    .dataframe tbody tr th {\n",
       "        vertical-align: top;\n",
       "    }\n",
       "\n",
       "    .dataframe thead th {\n",
       "        text-align: right;\n",
       "    }\n",
       "</style>\n",
       "<table border=\"1\" class=\"dataframe\">\n",
       "  <thead>\n",
       "    <tr style=\"text-align: right;\">\n",
       "      <th></th>\n",
       "      <th>Número sorteado</th>\n",
       "      <th>bola 1</th>\n",
       "      <th>bola 2</th>\n",
       "      <th>bola 3</th>\n",
       "      <th>bola 4</th>\n",
       "      <th>bola 5</th>\n",
       "      <th>bola 6</th>\n",
       "    </tr>\n",
       "  </thead>\n",
       "  <tbody>\n",
       "    <tr>\n",
       "      <th>0</th>\n",
       "      <td>28</td>\n",
       "      <td>60.0</td>\n",
       "      <td>NaN</td>\n",
       "      <td>NaN</td>\n",
       "      <td>NaN</td>\n",
       "      <td>NaN</td>\n",
       "      <td>NaN</td>\n",
       "    </tr>\n",
       "    <tr>\n",
       "      <th>1</th>\n",
       "      <td>5</td>\n",
       "      <td>NaN</td>\n",
       "      <td>63.0</td>\n",
       "      <td>NaN</td>\n",
       "      <td>NaN</td>\n",
       "      <td>NaN</td>\n",
       "      <td>NaN</td>\n",
       "    </tr>\n",
       "    <tr>\n",
       "      <th>2</th>\n",
       "      <td>27</td>\n",
       "      <td>NaN</td>\n",
       "      <td>NaN</td>\n",
       "      <td>59.0</td>\n",
       "      <td>NaN</td>\n",
       "      <td>NaN</td>\n",
       "      <td>NaN</td>\n",
       "    </tr>\n",
       "    <tr>\n",
       "      <th>3</th>\n",
       "      <td>29</td>\n",
       "      <td>NaN</td>\n",
       "      <td>NaN</td>\n",
       "      <td>NaN</td>\n",
       "      <td>59.0</td>\n",
       "      <td>NaN</td>\n",
       "      <td>NaN</td>\n",
       "    </tr>\n",
       "    <tr>\n",
       "      <th>4</th>\n",
       "      <td>35</td>\n",
       "      <td>NaN</td>\n",
       "      <td>NaN</td>\n",
       "      <td>NaN</td>\n",
       "      <td>NaN</td>\n",
       "      <td>61.0</td>\n",
       "      <td>NaN</td>\n",
       "    </tr>\n",
       "    <tr>\n",
       "      <th>5</th>\n",
       "      <td>23</td>\n",
       "      <td>NaN</td>\n",
       "      <td>NaN</td>\n",
       "      <td>NaN</td>\n",
       "      <td>NaN</td>\n",
       "      <td>NaN</td>\n",
       "      <td>58.0</td>\n",
       "    </tr>\n",
       "  </tbody>\n",
       "</table>\n",
       "</div>"
      ],
      "text/plain": [
       "   Número sorteado  bola 1  bola 2  bola 3  bola 4  bola 5  bola 6\n",
       "0               28    60.0     NaN     NaN     NaN     NaN     NaN\n",
       "1                5     NaN    63.0     NaN     NaN     NaN     NaN\n",
       "2               27     NaN     NaN    59.0     NaN     NaN     NaN\n",
       "3               29     NaN     NaN     NaN    59.0     NaN     NaN\n",
       "4               35     NaN     NaN     NaN     NaN    61.0     NaN\n",
       "5               23     NaN     NaN     NaN     NaN     NaN    58.0"
      ]
     },
     "execution_count": 135,
     "metadata": {},
     "output_type": "execute_result"
    }
   ],
   "source": [
    "df_merged2 = functools.reduce(lambda  left,right: pd.merge(left,right,on=['Número sorteado'],\n",
    "                                            how='outer'), data_frames11)\n",
    "df_merged2.round(decimals=0)\n",
    "df_merged2"
   ]
  },
  {
   "cell_type": "code",
   "execution_count": 137,
   "id": "7eeb3174",
   "metadata": {},
   "outputs": [
    {
     "data": {
      "image/png": "[encoded data removed]",
      "text/plain": [
       "<Figure size 1008x576 with 1 Axes>"
      ]
     },
     "metadata": {
      "needs_background": "light"
     },
     "output_type": "display_data"
    }
   ],
   "source": [
    "#valores que mais sairam em cada bola\n",
    "primeiros = df_merged2.groupby(['Número sorteado']).sum()\n",
    "primeiros.plot.bar(figsize=(14, 8))\n",
    "plt.title('Números mais sorteados',fontsize=18,pad=20)\n",
    "plt.legend (ncol = 1, loc= (1.03, 0),fontsize=10)\n",
    "plt.xlabel('Número', fontsize=15, labelpad =20)\n",
    "plt.ylabel('Vezes sorteado', fontsize=18)\n",
    "\n",
    "plt.show()\n",
    "\n"
   ]
  },
  {
   "cell_type": "code",
   "execution_count": null,
   "id": "1525ceee",
   "metadata": {},
   "outputs": [],
   "source": []
  }
 ],
 "metadata": {
  "kernelspec": {
   "display_name": "Python 3 (ipykernel)",
   "language": "python",
   "name": "python3"
  },
  "language_info": {
   "codemirror_mode": {
    "name": "ipython",
    "version": 3
   },
   "file_extension": ".py",
   "mimetype": "text/x-python",
   "name": "python",
   "nbconvert_exporter": "python",
   "pygments_lexer": "ipython3",
   "version": "3.9.12"
  }
 },
 "nbformat": 4,
 "nbformat_minor": 5
}
